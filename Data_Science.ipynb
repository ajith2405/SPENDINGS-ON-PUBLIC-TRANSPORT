{
  "nbformat": 4,
  "nbformat_minor": 0,
  "metadata": {
    "colab": {
      "provenance": []
    },
    "kernelspec": {
      "name": "python3",
      "display_name": "Python 3"
    },
    "language_info": {
      "name": "python"
    }
  },
  "cells": [
    {
      "cell_type": "markdown",
      "source": [
        "DATA CLEANING:"
      ],
      "metadata": {
        "id": "aXXmwiKr0qx8"
      }
    },
    {
      "cell_type": "code",
      "source": [
        "import pandas as pd\n",
        "import matplotlib.pyplot as plt\n",
        "import seaborn as sns\n",
        "\n",
        "# Define custom colors\n",
        "custom_colors_before = [\n",
        "    (89/255, 179/255, 200/255),  # RGB(89, 179, 200)\n",
        "    (34/255, 80/255, 122/255),  # RGB(34, 80, 122)\n",
        "    (43/255, 98/255, 138/255),  # RGB(43, 98, 138)\n",
        "    (53/255, 119/255, 156/255),  # RGB(53, 119, 156)\n",
        "    (75/255, 158/255, 184/255),  # RGB(75, 158, 184)\n",
        "    (16/255, 19/255, 45/255),    # RGB(16, 19, 45)\n",
        "]\n",
        "\n",
        "custom_colors_after = [\n",
        "    (10/255, 165/255, 184/255),  # Hero Image: RGB(10, 165, 184)\n",
        "    (7/255, 60/255, 108/255),    # RGB(7, 60, 108)\n",
        "    (17/255, 177/255, 189/255),  # RGB(17, 177, 189)\n",
        "    (16/255, 78/255, 123/255),   # RGB(16, 78, 123)\n",
        "    (7/255, 51/255, 102/255),    # RGB(7, 51, 102)\n",
        "    (17/255, 93/255, 136/255),   # RGB(17, 93, 136)\n",
        "]\n",
        "\n",
        "# Load your dataset\n",
        "original_data = pd.read_csv(\"/content/sample_data/Selected_variables.csv\")\n",
        "\n",
        "# Fill missing values with the mean\n",
        "cleaned_data = original_data.fillna(original_data.mean())\n",
        "\n",
        "# Create subplots for different types of plots\n",
        "fig, axes = plt.subplots(3, 2, figsize=(15, 15))\n",
        "\n",
        "\n",
        "# Plot 3: Line Graph Before Cleaning\n",
        "sns.lineplot(data=original_data, palette=custom_colors_before, ax=axes[1, 0])\n",
        "axes[1, 0].set_title('Line Graph Before Cleaning')\n",
        "\n",
        "# Plot 4: Line Graph After Cleaning\n",
        "sns.lineplot(data=cleaned_data, palette=custom_colors_after, ax=axes[1, 1])\n",
        "axes[1, 1].set_title('Line Graph After Cleaning')\n",
        "\n",
        "\n",
        "\n",
        "# Remove axis labels\n",
        "for ax in axes.flat:\n",
        "    ax.set(xlabel='', ylabel='')\n",
        "\n",
        "# Add legend to line graphs\n",
        "axes[1, 0].legend(loc='best')\n",
        "axes[1, 1].legend(loc='best')\n",
        "\n",
        "plt.tight_layout()\n",
        "plt.show()\n",
        "\n",
        "# Save the cleaned dataset to a new file (e.g., 'cleaned_data.csv')\n",
        "cleaned_data.to_csv('cleaned_data.csv', index=False)\n"
      ],
      "metadata": {
        "id": "R781R4lv0qdU"
      },
      "execution_count": null,
      "outputs": []
    },
    {
      "cell_type": "markdown",
      "source": [
        "Note: The dependent variable ‘PUB_TRANS_SPENDINGS’ outputs 0 or 1:\n",
        "If the value is ‘0’ then it prints ‘0’ as output.\n",
        "If the value is greater than ‘0’ then it prints ‘1’ as output.\n"
      ],
      "metadata": {
        "id": "DXg6SUBP2Uy7"
      }
    },
    {
      "cell_type": "code",
      "source": [
        "import pandas as pd\n",
        "\n",
        "# Load the CSV file into a DataFrame\n",
        "df = pd.read_csv(\"/content/sample_data/cleaned_data.csv\")\n",
        "\n",
        "# Update only the 'PUBTRAPQ' column\n",
        "df['PUB_TRANS_SPENDING'] = df['PUB_TRANS_SPENDING'].apply(lambda x: 0 if x == 0 else 1)\n",
        "\n",
        "# Save the updated DataFrame to a new CSV file\n",
        "df.to_csv('updated_file.csv', index=False)\n"
      ],
      "metadata": {
        "id": "NzFQgd8x2VCk"
      },
      "execution_count": null,
      "outputs": []
    },
    {
      "cell_type": "markdown",
      "source": [
        "Cleaning STATE and URBAN"
      ],
      "metadata": {
        "id": "GjOvT2Gw2bLL"
      }
    },
    {
      "cell_type": "code",
      "source": [
        "import pandas as pd\n",
        "\n",
        "# Upload your data\n",
        "# Replace 'your_data.csv' with the actual file path or URL of your dataset\n",
        "df = pd.read_csv(\"/content/sample_data/ADDED_STATE_URBAN.csv\")\n",
        "\n",
        "# Remove rows with empty spaces\n",
        "df = df.replace('', pd.NA).dropna()\n",
        "\n",
        "# Print the updated dataset\n",
        "print(df)\n",
        "\n",
        "# Optionally, save the updated dataset to a new CSV file\n",
        "# Replace 'updated_data.csv' with the desired file name\n",
        "df.to_csv('updated_data_STATE_URBAN.csv', index=False)\n",
        "\n"
      ],
      "metadata": {
        "id": "QmrSVJPY2bgd"
      },
      "execution_count": null,
      "outputs": []
    },
    {
      "cell_type": "markdown",
      "source": [
        "FEATURE ENGINEERING:"
      ],
      "metadata": {
        "id": "1zfAo-pUzzGx"
      }
    },
    {
      "cell_type": "code",
      "source": [
        "import pandas as pd\n",
        "import matplotlib.pyplot as plt\n",
        "\n",
        "# Load your dataset (replace 'data.csv' with your data file)\n",
        "data = pd.read_csv(\"/content/sample_data/updated_data_STATE_URBAN.csv\")\n",
        "\n",
        "# Define custom colors\n",
        "custom_colors = [\n",
        "    (89/255, 179/255, 200/255),  # RGB(89, 179, 200)\n",
        "    (34/255, 80/255, 122/255),  # RGB(34, 80, 122)\n",
        "    (43/255, 98/255, 138/255),  # RGB(43, 98, 138)\n",
        "    (53/255, 119/255, 156/255),  # RGB(53, 119, 156)\n",
        "    (75/255, 158/255, 184/255),  # RGB(75, 158, 184)\n",
        "    (16/255, 19/255, 45/255),    # RGB(16, 19, 45)\n",
        "]\n",
        "\n",
        "# Feature Engineering 1: Binning (Car Ownership Category)\n",
        "data['Car_Ownership_Category'] = pd.cut(data['NUM_AUTO'], bins=[-1, 0, 1, 2, float('inf')], labels=['0 Cars', '1 Car', '2 Cars', '3+ Cars'])\n",
        "\n",
        "# Feature Engineering 2: Grouping (Mean INC_RANK by State)\n",
        "state_grouping = data.groupby('STATE')['INC_RANK'].mean().sort_values(ascending=False)\n",
        "\n",
        "# Feature Engineering 3: Binary Encoding (Urban_Encoded)\n",
        "data['Urban_Encoded'] = data['URBAN'].map({1: 1, 2: 0})\n",
        "\n",
        "# Visualize the feature engineering results\n",
        "plt.figure(figsize=(15, 5))\n",
        "\n",
        "# Plot 1: Bar Chart (Car Ownership Category)\n",
        "plt.subplot(131)\n",
        "data['Car_Ownership_Category'].value_counts().plot(kind='bar', title='Car Ownership Category', color=custom_colors[0])\n",
        "\n",
        "# Plot 2: Line Graph (Mean INC_RANK by State)\n",
        "plt.subplot(132)\n",
        "state_grouping.plot(kind='line', marker='o', title='Mean INC_RANK by State', color=custom_colors[1])\n",
        "\n",
        "# Plot 3: Bar Chart (Urban Encoding)\n",
        "if 'Urban_Encoded' in data.columns and not data['Urban_Encoded'].empty:\n",
        "    plt.subplot(133)\n",
        "    data['Urban_Encoded'].value_counts().plot(kind='bar', title='Urban Encoding', color=custom_colors[2])\n",
        "\n",
        "plt.tight_layout()\n",
        "plt.show()\n",
        "\n",
        "# Save the updated DataFrame to a CSV file\n",
        "data.to_csv('updated_features_selected.csv', index=False)\n"
      ],
      "metadata": {
        "id": "GG4kGZIUzwvC"
      },
      "execution_count": null,
      "outputs": []
    },
    {
      "cell_type": "markdown",
      "source": [
        "Note:\n",
        "In car ownership category the 0 cars, 1 car, 2 cars, 3+ cars are considered as 0, 1, 2 and 3 cars.\n"
      ],
      "metadata": {
        "id": "I647TegU2k-g"
      }
    },
    {
      "cell_type": "code",
      "source": [
        "import pandas as pd\n",
        "\n",
        "# Load your dataset\n",
        "data = pd.read_csv(\"/content/sample_data/updated_features_selected.csv\")\n",
        "\n",
        "# Create a mapping dictionary for Car_Ownership_Category\n",
        "car_ownership_mapping = {'0 Cars': 0, '1 Car': 1, '2 Cars': 2, '3 Cars': 3}\n",
        "\n",
        "# Replace values in the Car_Ownership_Category column\n",
        "data['Car_Ownership_Category'] = data['Car_Ownership_Category'].map(car_ownership_mapping)\n",
        "\n",
        "# Save the modified data to a new CSV file\n",
        "data.to_csv('your_modifiedfeature_data.csv', index=False)\n"
      ],
      "metadata": {
        "id": "wsUtjZzM2lLb"
      },
      "execution_count": null,
      "outputs": []
    },
    {
      "cell_type": "markdown",
      "source": [
        "MODELING:"
      ],
      "metadata": {
        "id": "xGQvOyDizFGY"
      }
    },
    {
      "cell_type": "code",
      "execution_count": null,
      "metadata": {
        "id": "B3CczhvCyndc"
      },
      "outputs": [],
      "source": [
        "import pandas as pd\n",
        "from sklearn.model_selection import train_test_split\n",
        "from sklearn.preprocessing import StandardScaler\n",
        "from sklearn.impute import SimpleImputer\n",
        "from sklearn.ensemble import RandomForestClassifier\n",
        "from sklearn.metrics import accuracy_score, precision_score, confusion_matrix, classification_report\n",
        "import matplotlib.pyplot as plt\n",
        "\n",
        "# Load your dataset (replace 'data.csv' with your data file)\n",
        "data = pd.read_csv(\"/content/sample_data/updated_feature_dataset_____.csv\")\n",
        "\n",
        "# Assume your target variable is 'PUBTRAPQ'\n",
        "target_column_name = 'PUB_TRANS_SPENDING'\n",
        "\n",
        "# Define features (X) and target variable (y)\n",
        "X = data.drop(columns=[target_column_name])\n",
        "y = data[target_column_name]\n",
        "\n",
        "# Handle missing values (replace NaN with the mean)\n",
        "imputer = SimpleImputer(strategy='mean')\n",
        "X_imputed = pd.DataFrame(imputer.fit_transform(X), columns=X.columns)\n",
        "\n",
        "# Split the data into training and testing sets\n",
        "X_train, X_test, y_train, y_test = train_test_split(X_imputed, y, test_size=0.2, random_state=42)\n",
        "\n",
        "# Random Forest Classifier\n",
        "rf_classifier = RandomForestClassifier(n_estimators=100, random_state=42)\n",
        "rf_classifier.fit(X_train, y_train)\n",
        "y_pred_rf = rf_classifier.predict(X_test)\n",
        "\n",
        "# Evaluate Random Forest Classifier\n",
        "accuracy_rf = accuracy_score(y_test, y_pred_rf)\n",
        "precision_rf = precision_score(y_test, y_pred_rf)\n",
        "conf_matrix_rf = confusion_matrix(y_test, y_pred_rf)\n",
        "\n",
        "print(\"Random Forest Classifier Results:\")\n",
        "print(f\"Accuracy: {accuracy_rf}\")\n",
        "print(f\"Precision: {precision_rf}\")\n",
        "print(\"Confusion Matrix:\")\n",
        "print(conf_matrix_rf)\n",
        "\n",
        "# Generate Classification Report\n",
        "classification_rep_rf = classification_report(y_test, y_pred_rf)\n",
        "print(\"\\nClassification Report:\")\n",
        "print(classification_rep_rf)\n",
        "\n",
        "# Feature Importances\n",
        "feature_importances = pd.DataFrame({'Feature': X.columns, 'Importance': rf_classifier.feature_importances_})\n",
        "feature_importances = feature_importances.sort_values(by='Importance', ascending=False)\n",
        "print(\"\\nFeature Importances:\")\n",
        "print(feature_importances)\n",
        "\n",
        "# Define custom colors for the scatter plot\n",
        "custom_colors = [\n",
        "    (89/255, 179/255, 200/255),  # RGB(89, 179, 200)\n",
        "    (34/255, 80/255, 122/255),  # RGB(34, 80, 122)\n",
        "    (43/255, 98/255, 138/255),  # RGB(43, 98, 138)\n",
        "    (53/255, 119/255, 156/255),  # RGB(53, 119, 156)\n",
        "    (75/255, 158/255, 184/255),  # RGB(75, 158, 184)\n",
        "    (16/255, 19/255, 45/255),    # RGB(16, 19, 45)\n",
        "]\n",
        "\n",
        "# Create a scatter plot for overall accuracy\n",
        "plt.figure(figsize=(8, 6))\n",
        "plt.scatter([0], [accuracy_rf], color=custom_colors[0], marker='o', s=100)\n",
        "plt.title('Overall Accuracy')\n",
        "plt.xlabel('Accuracy')\n",
        "plt.ylabel('Value')\n",
        "\n",
        "plt.grid(True, linestyle='--', alpha=0.6)\n",
        "plt.ylim(0, 1)\n",
        "\n",
        "plt.show()\n"
      ]
    }
  ]
}
